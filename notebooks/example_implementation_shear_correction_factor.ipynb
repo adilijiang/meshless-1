{
 "cells": [
  {
   "cell_type": "markdown",
   "metadata": {},
   "source": [
    "Implementation example\n",
    "---\n",
    "\n",
    "This is the actual notebook used to develop the calc_scf() method of the meshless.composite.laminate.Laminate class."
   ]
  },
  {
   "cell_type": "code",
   "execution_count": 33,
   "metadata": {
    "collapsed": false
   },
   "outputs": [
    {
     "name": "stdout",
     "output_type": "stream",
     "text": [
      "(0.76833028877157949, 0.77602930040164342)\n"
     ]
    }
   ],
   "source": [
    "import numpy as np\n",
    "from sympy.abc import z\n",
    "\n",
    "from meshless.composite.laminate import read_stack\n",
    "\n",
    "E1 = 49.627e9\n",
    "E2 = 15.43e9\n",
    "nu12 = 0.38\n",
    "G12 = 4.8e9\n",
    "G13 = 4.8e9\n",
    "G23 = 4.8e9\n",
    "laminaprop = (E1, E2, nu12, G12, G13, G23)\n",
    "\n",
    "tmap = {\n",
    "      45: 0.143e-3,\n",
    "     -45: 0.143e-3,\n",
    "       0: 1.714e-3\n",
    "    }\n",
    "X = 1\n",
    "angles = [-45, +45, 0, +45, -45, 0]*X + [0, -45, +45, 0, +45, -45]*X\n",
    "plyts = [tmap[angle] for angle in angles]\n",
    "\n",
    "lam = read_stack(angles, plyts=plyts, laminaprop=laminaprop)\n",
    "\n",
    "def calc_scf(self):\n",
    "    \"\"\"Calculate shear correction factors\n",
    "\n",
    "    Reference:\n",
    "\n",
    "        Vlachoutsis, S. \"Shear correction factors for plates and shells\",\n",
    "        Int. Journal for Numerical Methods in Engineering, Vol. 33,\n",
    "        1537-1552, 1992.\n",
    "        \n",
    "        http://onlinelibrary.wiley.com/doi/10.1002/nme.1620330712/full\n",
    "        \n",
    "\n",
    "    Using \"one shear correction factor\" (see reference), assuming:\n",
    "\n",
    "    - constant G13, G23, E1, E2, nu12, nu21 within each ply\n",
    "    - g1 calculated using z at the middle of each ply\n",
    "    - zn1 = Laminate.offset\n",
    "\n",
    "    Returns\n",
    "    -------\n",
    "\n",
    "    k13, k23 : tuple\n",
    "        Shear correction factors. Also updates attributes: `scf_k13`\n",
    "        and `scf_k23`.\n",
    "\n",
    "    \"\"\"\n",
    "    D1 = 0\n",
    "    R1 = 0\n",
    "    den1 = 0\n",
    "    \n",
    "    D2 = 0\n",
    "    R2 = 0\n",
    "    den2 = 0\n",
    "    \n",
    "    offset = self.offset\n",
    "    zbot = -self.t/2 + offset\n",
    "    z1 = zbot\n",
    "    \n",
    "    for ply in self.plies:\n",
    "        z2 = z1 + ply.t\n",
    "        e1 = (ply.matobj.e1 * np.cos(np.deg2rad(ply.theta)) +\n",
    "              ply.matobj.e2 * np.sin(np.deg2rad(ply.theta)))\n",
    "        e2 = (ply.matobj.e2 * np.cos(np.deg2rad(ply.theta)) +\n",
    "              ply.matobj.e1 * np.sin(np.deg2rad(ply.theta)))\n",
    "        nu12 = (ply.matobj.nu12 * np.cos(np.deg2rad(ply.theta)) +\n",
    "              ply.matobj.nu21 * np.sin(np.deg2rad(ply.theta)))\n",
    "        nu21 = (ply.matobj.nu21 * np.cos(np.deg2rad(ply.theta)) +\n",
    "          ply.matobj.nu12 * np.sin(np.deg2rad(ply.theta)))\n",
    "        \n",
    "        D1 += e1 / (1 - nu12*nu21)\n",
    "        R1 += D1*((z2 - offset)**3/3 - (z1 - offset)**3/3)\n",
    "        g13 = ply.matobj.g13\n",
    "        d1 = g13 * ply.t\n",
    "        den1 += d1 * (self.t / ply.t) * D1**2*(15*offset*z1**4 + 30*offset*z1**2*zbot*(2*offset - zbot) - 15*offset*z2**4 + 30*offset*z2**2*zbot*(-2*offset + zbot) - 3*z1**5 + 10*z1**3*(-2*offset**2 - 2*offset*zbot + zbot**2) - 15*z1*zbot**2*(4*offset**2 - 4*offset*zbot + zbot**2) + 3*z2**5 + 10*z2**3*(2*offset**2 + 2*offset*zbot - zbot**2) + 15*z2*zbot**2*(4*offset**2 - 4*offset*zbot + zbot**2))/(60*g13)\n",
    "\n",
    "        D2 += e2 / (1 - nu12*nu21)\n",
    "        R2 += D2*((z2 - self.offset)**3/3 - (z1 - self.offset)**3/3)\n",
    "        g23 = ply.matobj.g23\n",
    "        d2 = g23 * ply.t\n",
    "        den2 += d2 * (self.t / ply.t) * D2**2*(15*offset*z1**4 + 30*offset*z1**2*zbot*(2*offset - zbot) - 15*offset*z2**4 + 30*offset*z2**2*zbot*(-2*offset + zbot) - 3*z1**5 + 10*z1**3*(-2*offset**2 - 2*offset*zbot + zbot**2) - 15*z1*zbot**2*(4*offset**2 - 4*offset*zbot + zbot**2) + 3*z2**5 + 10*z2**3*(2*offset**2 + 2*offset*zbot - zbot**2) + 15*z2*zbot**2*(4*offset**2 - 4*offset*zbot + zbot**2))/(60*g23)\n",
    "        \n",
    "        z1 = z2\n",
    "\n",
    "    self.scf_k13 = R1**2 / den1\n",
    "    self.scf_k23 = R2**2 / den2\n",
    "\n",
    "    return self.scf_k13, self.scf_k23\n",
    "\n",
    "print(calc_scf(lam))"
   ]
  },
  {
   "cell_type": "markdown",
   "metadata": {},
   "source": [
    "Integrating symbolically the denominator expressions for K13 and K23"
   ]
  },
  {
   "cell_type": "code",
   "execution_count": 32,
   "metadata": {
    "collapsed": false
   },
   "outputs": [
    {
     "name": "stdout",
     "output_type": "stream",
     "text": [
      "D1**2*(15*offset*z1**4 + 30*offset*z1**2*zbot*(2*offset - zbot) - 15*offset*z2**4 + 30*offset*z2**2*zbot*(-2*offset + zbot) - 3*z1**5 + 10*z1**3*(-2*offset**2 - 2*offset*zbot + zbot**2) - 15*z1*zbot**2*(4*offset**2 - 4*offset*zbot + zbot**2) + 3*z2**5 + 10*z2**3*(2*offset**2 + 2*offset*zbot - zbot**2) + 15*z2*zbot**2*(4*offset**2 - 4*offset*zbot + zbot**2))/(60*g13)\n"
     ]
    }
   ],
   "source": [
    "from sympy.abc import z\n",
    "import sympy\n",
    "\n",
    "sympy.var('z1, z2, D1, offset, zbot, g13')\n",
    "g1 = - D1*sympy.integrate(z - offset, (z, zbot, z))\n",
    "expr = sympy.integrate((g1**2 / g13), (z, z1, z2))\n",
    "print(expr.simplify())"
   ]
  }
 ],
 "metadata": {
  "kernelspec": {
   "display_name": "Python 3",
   "language": "python",
   "name": "python3"
  },
  "language_info": {
   "codemirror_mode": {
    "name": "ipython",
    "version": 3
   },
   "file_extension": ".py",
   "mimetype": "text/x-python",
   "name": "python",
   "nbconvert_exporter": "python",
   "pygments_lexer": "ipython3",
   "version": "3.5.2"
  }
 },
 "nbformat": 4,
 "nbformat_minor": 1
}
